{
  "cells": [
    {
      "cell_type": "code",
      "source": [
        "!pip install contractions --quiet\n"
      ],
      "metadata": {
        "colab": {
          "base_uri": "https://localhost:8080/"
        },
        "id": "ebTYKAQJ8-bl",
        "outputId": "de6489b5-b2ba-466c-a611-5621f1d9294f"
      },
      "execution_count": null,
      "outputs": [
        {
          "output_type": "stream",
          "name": "stdout",
          "text": [
            "\u001b[?25l   \u001b[90m━━━━━━━━━━━━━━━━━━━━━━━━━━━━━━━━━━━━━━━━\u001b[0m \u001b[32m0.0/289.9 kB\u001b[0m \u001b[31m?\u001b[0m eta \u001b[36m-:--:--\u001b[0m\r\u001b[2K   \u001b[91m━━━━━━━━━━━━━━━━━━━━━━━━━━━━━━━━\u001b[0m\u001b[90m╺\u001b[0m\u001b[90m━━━━━━━\u001b[0m \u001b[32m235.5/289.9 kB\u001b[0m \u001b[31m7.6 MB/s\u001b[0m eta \u001b[36m0:00:01\u001b[0m\r\u001b[2K   \u001b[90m━━━━━━━━━━━━━━━━━━━━━━━━━━━━━━━━━━━━━━━━\u001b[0m \u001b[32m289.9/289.9 kB\u001b[0m \u001b[31m5.1 MB/s\u001b[0m eta \u001b[36m0:00:00\u001b[0m\n",
            "\u001b[?25h\u001b[?25l   \u001b[90m━━━━━━━━━━━━━━━━━━━━━━━━━━━━━━━━━━━━━━━━\u001b[0m \u001b[32m0.0/118.3 kB\u001b[0m \u001b[31m?\u001b[0m eta \u001b[36m-:--:--\u001b[0m\r\u001b[2K   \u001b[90m━━━━━━━━━━━━━━━━━━━━━━━━━━━━━━━━━━━━━━━━\u001b[0m \u001b[32m118.3/118.3 kB\u001b[0m \u001b[31m6.9 MB/s\u001b[0m eta \u001b[36m0:00:00\u001b[0m\n",
            "\u001b[?25h"
          ]
        }
      ]
    },
    {
      "cell_type": "code",
      "execution_count": null,
      "metadata": {
        "colab": {
          "base_uri": "https://localhost:8080/"
        },
        "id": "kZgY_GHPuXGR",
        "outputId": "fa095654-f420-4c07-9787-b2df240e95d3"
      },
      "outputs": [
        {
          "output_type": "stream",
          "name": "stderr",
          "text": [
            "[nltk_data] Downloading package stopwords to /root/nltk_data...\n",
            "[nltk_data]   Package stopwords is already up-to-date!\n",
            "[nltk_data] Downloading package wordnet to /root/nltk_data...\n",
            "[nltk_data]   Package wordnet is already up-to-date!\n"
          ]
        },
        {
          "output_type": "execute_result",
          "data": {
            "text/plain": [
              "True"
            ]
          },
          "metadata": {},
          "execution_count": 3
        }
      ],
      "source": [
        "# Cell 1: Data and Text Processing Imports\n",
        "import pandas as pd\n",
        "import numpy as np\n",
        "import re\n",
        "import string\n",
        "from bs4 import BeautifulSoup\n",
        "import contractions\n",
        "import nltk\n",
        "\n",
        "from nltk.corpus import stopwords\n",
        "from nltk.stem import WordNetLemmatizer\n",
        "\n",
        "nltk.download('stopwords')\n",
        "nltk.download('wordnet')"
      ]
    },
    {
      "cell_type": "code",
      "execution_count": null,
      "metadata": {
        "id": "iHYbsm_OtswY"
      },
      "outputs": [],
      "source": [
        " #Load and Preprocess Data\n",
        "df = pd.read_csv(\"spam.csv\", encoding=\"latin-1\")[['v1', 'v2']]\n",
        "df.columns = ['label', 'text']\n",
        "df['label'] = df['label'].map({'ham': 0, 'spam': 1})\n",
        "\n",
        "stop_words = set(stopwords.words(\"english\"))\n",
        "lemmatizer = WordNetLemmatizer()\n",
        "\n",
        "def preprocess(text):\n",
        "    text = BeautifulSoup(text, \"html.parser\").get_text()\n",
        "    text = contractions.fix(text)\n",
        "    text = text.lower()\n",
        "    text = re.sub(r'\\d+', '', text)\n",
        "    text = text.translate(str.maketrans('', '', string.punctuation))\n",
        "    words = text.split()\n",
        "    words = [lemmatizer.lemmatize(word) for word in words if word not in stop_words]\n",
        "    return words\n",
        "\n",
        "df['tokens'] = df['text'].apply(preprocess)\n",
        "df['cleaned_text'] = df['tokens'].apply(lambda x: ' '.join(x))\n"
      ]
    },
    {
      "cell_type": "code",
      "execution_count": null,
      "metadata": {
        "id": "wCKT3JQ1CrHL",
        "colab": {
          "base_uri": "https://localhost:8080/"
        },
        "outputId": "34b77bdb-4fff-4ed5-cb0e-20974ffeba3f"
      },
      "outputs": [
        {
          "output_type": "stream",
          "name": "stdout",
          "text": [
            "Data preparation done.\n"
          ]
        }
      ],
      "source": [
        "import pandas as pd\n",
        "from sklearn.model_selection import train_test_split\n",
        "from sklearn.feature_extraction.text import TfidfVectorizer\n",
        "import re\n",
        "import string\n",
        "\n",
        "# Load data\n",
        "df = pd.read_csv(\"spam.csv\", encoding=\"latin-1\")[['v1', 'v2']]\n",
        "df.columns = ['label', 'text']\n",
        "df['label'] = df['label'].map({'ham': 0, 'spam': 1})\n",
        "\n",
        "# Basic preprocessing example (lowercase)\n",
        "df['text'] = df['text'].str.lower()\n",
        "\n",
        "# Optional: create 'tokens' column by simple tokenization (split words)\n",
        "def simple_tokenize(text):\n",
        "    # Remove punctuation\n",
        "    text = text.translate(str.maketrans('', '', string.punctuation))\n",
        "    # Split by whitespace\n",
        "    return text.split()\n",
        "\n",
        "df['tokens'] = df['text'].apply(simple_tokenize)\n",
        "\n",
        "# Now you can use df['tokens'] safely\n",
        "\n",
        "# Feature extraction with TF-IDF vectorizer (needs strings, so join tokens back)\n",
        "df['clean_text'] = df['tokens'].apply(lambda x: ' '.join(x))\n",
        "\n",
        "vectorizer = TfidfVectorizer(max_features=3000)\n",
        "X = vectorizer.fit_transform(df['clean_text']).toarray()\n",
        "y = df['label'].values\n",
        "\n",
        "# Split into train and test sets\n",
        "X_train, X_test, y_train, y_test = train_test_split(\n",
        "    X, y, test_size=0.2, random_state=42, stratify=y)\n",
        "\n",
        "print(\"Data preparation done.\")\n"
      ]
    },
    {
      "cell_type": "code",
      "execution_count": null,
      "metadata": {
        "colab": {
          "base_uri": "https://localhost:8080/"
        },
        "id": "068U6Tv3CRf6",
        "outputId": "32c4defc-d9cc-436b-f929-fc075f6f381f"
      },
      "outputs": [
        {
          "output_type": "stream",
          "name": "stdout",
          "text": [
            "Logistic Regression Results:\n",
            "              precision    recall  f1-score   support\n",
            "\n",
            "           0       0.99      0.98      0.99       966\n",
            "           1       0.89      0.95      0.92       149\n",
            "\n",
            "    accuracy                           0.98      1115\n",
            "   macro avg       0.94      0.96      0.95      1115\n",
            "weighted avg       0.98      0.98      0.98      1115\n",
            "\n",
            "Random Forest Results:\n",
            "              precision    recall  f1-score   support\n",
            "\n",
            "           0       0.97      1.00      0.98       966\n",
            "           1       0.98      0.82      0.89       149\n",
            "\n",
            "    accuracy                           0.97      1115\n",
            "   macro avg       0.97      0.91      0.94      1115\n",
            "weighted avg       0.97      0.97      0.97      1115\n",
            "\n",
            "----- SVM Results -----\n",
            "              precision    recall  f1-score   support\n",
            "\n",
            "           0       0.96      0.99      0.97       966\n",
            "           1       0.92      0.72      0.81       149\n",
            "\n",
            "    accuracy                           0.95      1115\n",
            "   macro avg       0.94      0.85      0.89      1115\n",
            "weighted avg       0.95      0.95      0.95      1115\n",
            "\n",
            "Accuracy: 0.9542600896860987\n"
          ]
        }
      ],
      "source": [
        "from sklearn.linear_model import LogisticRegression\n",
        "from sklearn.ensemble import RandomForestClassifier\n",
        "from sklearn.svm import SVC\n",
        "from sklearn.preprocessing import StandardScaler\n",
        "from sklearn.model_selection import GridSearchCV, train_test_split, StratifiedKFold\n",
        "from sklearn.metrics import classification_report, accuracy_score\n",
        "from imblearn.over_sampling import SMOTE\n",
        "import numpy as np\n",
        "\n",
        "# 1. Oversample training data (balance classes)\n",
        "smote = SMOTE(random_state=42)\n",
        "X_train_res, y_train_res = smote.fit_resample(X_train, y_train)\n",
        "\n",
        "# 2. Scale features for LR and SVM\n",
        "scaler = StandardScaler()\n",
        "X_train_scaled = scaler.fit_transform(X_train_res)\n",
        "X_test_scaled = scaler.transform(X_test)\n",
        "\n",
        "# 3. Logistic Regression with hyperparameter tuning\n",
        "param_grid_lr = {'C': [0.01, 0.1, 1, 10, 100]}\n",
        "lr = LogisticRegression(max_iter=1000)\n",
        "grid_lr = GridSearchCV(lr, param_grid_lr, cv=5, scoring='f1')\n",
        "grid_lr.fit(X_train_scaled, y_train_res)\n",
        "best_lr = grid_lr.best_estimator_\n",
        "\n",
        "# Evaluate Logistic Regression\n",
        "y_pred_lr = best_lr.predict(X_test_scaled)\n",
        "print(\"Logistic Regression Results:\")\n",
        "print(classification_report(y_test, y_pred_lr))\n",
        "\n",
        "# 4. Random Forest with tuned hyperparameters (manual tuning example)\n",
        "rf = RandomForestClassifier(n_estimators=100, max_depth=10, min_samples_leaf=5, random_state=42)\n",
        "rf = RandomForestClassifier(random_state=42)\n",
        "rf.fit(X_train, y_train)\n",
        "print(\"Random Forest Results:\")\n",
        "print(classification_report(y_test, y_pred_rf))\n",
        "\n",
        "# 5. SVM with hyperparameter tuning\n",
        "param_grid_svm = {\n",
        "    'C': [0.1, 1, 10],\n",
        "    'kernel': ['linear', 'rbf'],\n",
        "    'gamma': ['scale', 'auto']\n",
        "}\n",
        "\n",
        "svc = SVC()\n",
        "grid_svm = GridSearchCV(svc, param_grid_svm, cv=5, scoring='f1', n_jobs=-1)\n",
        "grid_svm.fit(X_train_scaled, y_train_res)\n",
        "best_svm = grid_svm.best_estimator_\n",
        "\n",
        "# Evaluate\n",
        "y_pred_svm = best_svm.predict(X_test_scaled)\n",
        "print(\"----- SVM Results -----\")\n",
        "print(classification_report(y_test, y_pred_svm))\n",
        "print(\"Accuracy:\", accuracy_score(y_test, y_pred_svm))"
      ]
    },
    {
      "cell_type": "code",
      "source": [
        "# train/test LR Accuracy\n",
        "train_acc_lr = accuracy_score(y_train_res, best_lr.predict(X_train_scaled))\n",
        "test_acc_lr = accuracy_score(y_test, y_pred_lr)\n",
        "print(f\"Training Accuracy (LR): {train_acc_lr * 100:.2f}%\")\n",
        "print(f\"Test Accuracy (LR): {test_acc_lr * 100:.2f}%\")"
      ],
      "metadata": {
        "colab": {
          "base_uri": "https://localhost:8080/"
        },
        "id": "esyI_TBH_85Z",
        "outputId": "8afa2003-d4d1-497c-a3e8-37c1c77aa4ac"
      },
      "execution_count": null,
      "outputs": [
        {
          "output_type": "stream",
          "name": "stdout",
          "text": [
            "Training Accuracy (LR): 99.88%\n",
            "Test Accuracy (LR): 97.76%\n"
          ]
        }
      ]
    },
    {
      "cell_type": "code",
      "source": [
        "# train/test SVM Accuracy\n",
        "train_acc_svm = accuracy_score(y_train_res, best_svm.predict(X_train_scaled))\n",
        "test_acc_svm = accuracy_score(y_test, y_pred_svm)\n",
        "print(f\"Training Accuracy (SVM): {train_acc_svm * 100:.2f}%\")\n",
        "print(f\"Test Accuracy (SVM): {test_acc_svm * 100:.2f}%\")\n"
      ],
      "metadata": {
        "colab": {
          "base_uri": "https://localhost:8080/"
        },
        "id": "x7e-4yy-BK2l",
        "outputId": "995318a4-fc89-4bbb-c28f-30781a33325e"
      },
      "execution_count": null,
      "outputs": [
        {
          "output_type": "stream",
          "name": "stdout",
          "text": [
            "Training Accuracy (SVM): 99.86%\n",
            "Test Accuracy (SVM): 95.43%\n"
          ]
        }
      ]
    },
    {
      "cell_type": "code",
      "source": [
        "#  train/test Random Forest Accuracy\n",
        "train_acc_rf = accuracy_score(y_train_res, rf.predict(X_train_res))\n",
        "test_acc_rf = accuracy_score(y_test, y_pred_rf)\n",
        "print(f\"Training Accuracy (RF): {train_acc_rf * 100:.2f}%\")\n",
        "print(f\"Test Accuracy (RF): {test_acc_rf * 100:.2f}%\")\n"
      ],
      "metadata": {
        "colab": {
          "base_uri": "https://localhost:8080/"
        },
        "id": "8UvU4svnBUTk",
        "outputId": "0a0a6ebf-505e-43f7-ace5-6dc5eccd63b8"
      },
      "execution_count": null,
      "outputs": [
        {
          "output_type": "stream",
          "name": "stdout",
          "text": [
            "Training Accuracy (RF): 96.27%\n",
            "Test Accuracy (RF): 97.31%\n"
          ]
        }
      ]
    },
    {
      "cell_type": "code",
      "source": [
        "!pip install gensim"
      ],
      "metadata": {
        "colab": {
          "base_uri": "https://localhost:8080/"
        },
        "id": "OKtd1hLCKRWb",
        "outputId": "d0273317-65eb-4fdc-aaab-f802258340b2"
      },
      "execution_count": null,
      "outputs": [
        {
          "output_type": "stream",
          "name": "stdout",
          "text": [
            "Collecting gensim\n",
            "  Downloading gensim-4.3.3-cp311-cp311-manylinux_2_17_x86_64.manylinux2014_x86_64.whl.metadata (8.1 kB)\n",
            "Collecting numpy<2.0,>=1.18.5 (from gensim)\n",
            "  Downloading numpy-1.26.4-cp311-cp311-manylinux_2_17_x86_64.manylinux2014_x86_64.whl.metadata (61 kB)\n",
            "\u001b[2K     \u001b[90m━━━━━━━━━━━━━━━━━━━━━━━━━━━━━━━━━━━━━━━━\u001b[0m \u001b[32m61.0/61.0 kB\u001b[0m \u001b[31m2.4 MB/s\u001b[0m eta \u001b[36m0:00:00\u001b[0m\n",
            "\u001b[?25hCollecting scipy<1.14.0,>=1.7.0 (from gensim)\n",
            "  Downloading scipy-1.13.1-cp311-cp311-manylinux_2_17_x86_64.manylinux2014_x86_64.whl.metadata (60 kB)\n",
            "\u001b[2K     \u001b[90m━━━━━━━━━━━━━━━━━━━━━━━━━━━━━━━━━━━━━━━━\u001b[0m \u001b[32m60.6/60.6 kB\u001b[0m \u001b[31m2.5 MB/s\u001b[0m eta \u001b[36m0:00:00\u001b[0m\n",
            "\u001b[?25hRequirement already satisfied: smart-open>=1.8.1 in /usr/local/lib/python3.11/dist-packages (from gensim) (7.1.0)\n",
            "Requirement already satisfied: wrapt in /usr/local/lib/python3.11/dist-packages (from smart-open>=1.8.1->gensim) (1.17.2)\n",
            "Downloading gensim-4.3.3-cp311-cp311-manylinux_2_17_x86_64.manylinux2014_x86_64.whl (26.7 MB)\n",
            "\u001b[2K   \u001b[90m━━━━━━━━━━━━━━━━━━━━━━━━━━━━━━━━━━━━━━━━\u001b[0m \u001b[32m26.7/26.7 MB\u001b[0m \u001b[31m22.3 MB/s\u001b[0m eta \u001b[36m0:00:00\u001b[0m\n",
            "\u001b[?25hDownloading numpy-1.26.4-cp311-cp311-manylinux_2_17_x86_64.manylinux2014_x86_64.whl (18.3 MB)\n",
            "\u001b[2K   \u001b[90m━━━━━━━━━━━━━━━━━━━━━━━━━━━━━━━━━━━━━━━━\u001b[0m \u001b[32m18.3/18.3 MB\u001b[0m \u001b[31m33.6 MB/s\u001b[0m eta \u001b[36m0:00:00\u001b[0m\n",
            "\u001b[?25hDownloading scipy-1.13.1-cp311-cp311-manylinux_2_17_x86_64.manylinux2014_x86_64.whl (38.6 MB)\n",
            "\u001b[2K   \u001b[90m━━━━━━━━━━━━━━━━━━━━━━━━━━━━━━━━━━━━━━━━\u001b[0m \u001b[32m38.6/38.6 MB\u001b[0m \u001b[31m11.1 MB/s\u001b[0m eta \u001b[36m0:00:00\u001b[0m\n",
            "\u001b[?25hInstalling collected packages: numpy, scipy, gensim\n",
            "  Attempting uninstall: numpy\n",
            "    Found existing installation: numpy 2.0.2\n",
            "    Uninstalling numpy-2.0.2:\n",
            "      Successfully uninstalled numpy-2.0.2\n",
            "  Attempting uninstall: scipy\n",
            "    Found existing installation: scipy 1.15.3\n",
            "    Uninstalling scipy-1.15.3:\n",
            "      Successfully uninstalled scipy-1.15.3\n",
            "\u001b[31mERROR: pip's dependency resolver does not currently take into account all the packages that are installed. This behaviour is the source of the following dependency conflicts.\n",
            "thinc 8.3.6 requires numpy<3.0.0,>=2.0.0, but you have numpy 1.26.4 which is incompatible.\n",
            "tsfresh 0.21.0 requires scipy>=1.14.0; python_version >= \"3.10\", but you have scipy 1.13.1 which is incompatible.\u001b[0m\u001b[31m\n",
            "\u001b[0mSuccessfully installed gensim-4.3.3 numpy-1.26.4 scipy-1.13.1\n"
          ]
        }
      ]
    },
    {
      "cell_type": "code",
      "source": [
        "# LSTM Imports\n",
        "from gensim.models import Word2Vec\n",
        "from tensorflow.keras.models import Sequential\n",
        "from tensorflow.keras.layers import Embedding, LSTM, Dense, Dropout\n",
        "from tensorflow.keras.preprocessing.text import Tokenizer\n",
        "from tensorflow.keras.preprocessing.sequence import pad_sequences\n",
        "from tensorflow.keras.callbacks import EarlyStopping\n"
      ],
      "metadata": {
        "id": "Z2ikvj3wXbDP"
      },
      "execution_count": null,
      "outputs": []
    },
    {
      "cell_type": "code",
      "execution_count": null,
      "metadata": {
        "id": "dCbyhn1vvbYf"
      },
      "outputs": [],
      "source": [
        "# Word2Vec and Tokenization\n",
        "word2vec_model = Word2Vec(sentences=df['tokens'], vector_size=100, window=5, min_count=1, workers=4)\n",
        "\n",
        "tokenizer = Tokenizer()\n",
        "tokenizer.fit_on_texts(df['tokens'])\n",
        "sequences = tokenizer.texts_to_sequences(df['tokens'])\n",
        "\n",
        "word_index = tokenizer.word_index\n",
        "vocab_size = len(word_index) + 1\n",
        "maxlen = 50\n",
        "\n",
        "X_seq = pad_sequences(sequences, maxlen=maxlen)\n",
        "y_seq = df['label'].values\n"
      ]
    },
    {
      "cell_type": "code",
      "execution_count": null,
      "metadata": {
        "id": "wdIpeSgn4IAI"
      },
      "outputs": [],
      "source": [
        "# Aligning LSTM data with classical ML split\n",
        "# 4. Pad sequences\n",
        "X_seq = pad_sequences(sequences, maxlen=maxlen)\n",
        "y_seq = df['label'].values\n",
        "\n",
        "# 5. Split into train/test using indices of df (to align with original tokens)\n",
        "X_train_seq, X_test_seq, y_train_seq, y_test_seq = train_test_split(\n",
        "    X_seq, y_seq, test_size=0.2, random_state=42, stratify=y_seq)\n"
      ]
    },
    {
      "cell_type": "code",
      "source": [
        "embedding_matrix = np.zeros((vocab_size, 100))\n",
        "for word, i in word_index.items():\n",
        "    if word in word2vec_model.wv:\n",
        "        embedding_matrix[i] = word2vec_model.wv[word]\n"
      ],
      "metadata": {
        "id": "Sjn80ygyXeQs"
      },
      "execution_count": null,
      "outputs": []
    },
    {
      "cell_type": "code",
      "execution_count": null,
      "metadata": {
        "colab": {
          "base_uri": "https://localhost:8080/"
        },
        "id": "amqN9hMF7agz",
        "outputId": "9973a019-bb18-4a9d-f59b-cd549c853955"
      },
      "outputs": [
        {
          "output_type": "stream",
          "name": "stderr",
          "text": [
            "/usr/local/lib/python3.11/dist-packages/keras/src/layers/core/embedding.py:90: UserWarning: Argument `input_length` is deprecated. Just remove it.\n",
            "  warnings.warn(\n"
          ]
        },
        {
          "output_type": "stream",
          "name": "stdout",
          "text": [
            "Epoch 1/20\n",
            "\u001b[1m112/112\u001b[0m \u001b[32m━━━━━━━━━━━━━━━━━━━━\u001b[0m\u001b[37m\u001b[0m \u001b[1m28s\u001b[0m 138ms/step - accuracy: 0.6448 - loss: 0.6044 - val_accuracy: 0.8509 - val_loss: 0.3805\n",
            "Epoch 2/20\n",
            "\u001b[1m112/112\u001b[0m \u001b[32m━━━━━━━━━━━━━━━━━━━━\u001b[0m\u001b[37m\u001b[0m \u001b[1m15s\u001b[0m 130ms/step - accuracy: 0.9253 - loss: 0.2290 - val_accuracy: 0.9798 - val_loss: 0.0875\n",
            "Epoch 3/20\n",
            "\u001b[1m112/112\u001b[0m \u001b[32m━━━━━━━━━━━━━━━━━━━━\u001b[0m\u001b[37m\u001b[0m \u001b[1m20s\u001b[0m 129ms/step - accuracy: 0.9663 - loss: 0.1110 - val_accuracy: 0.9877 - val_loss: 0.0570\n",
            "Epoch 4/20\n",
            "\u001b[1m112/112\u001b[0m \u001b[32m━━━━━━━━━━━━━━━━━━━━\u001b[0m\u001b[37m\u001b[0m \u001b[1m21s\u001b[0m 132ms/step - accuracy: 0.9916 - loss: 0.0396 - val_accuracy: 0.9585 - val_loss: 0.1317\n",
            "Epoch 5/20\n",
            "\u001b[1m112/112\u001b[0m \u001b[32m━━━━━━━━━━━━━━━━━━━━\u001b[0m\u001b[37m\u001b[0m \u001b[1m21s\u001b[0m 138ms/step - accuracy: 0.9967 - loss: 0.0158 - val_accuracy: 0.9854 - val_loss: 0.0575\n",
            "Epoch 6/20\n",
            "\u001b[1m112/112\u001b[0m \u001b[32m━━━━━━━━━━━━━━━━━━━━\u001b[0m\u001b[37m\u001b[0m \u001b[1m16s\u001b[0m 147ms/step - accuracy: 0.9989 - loss: 0.0060 - val_accuracy: 0.9877 - val_loss: 0.0575\n",
            "Epoch 7/20\n",
            "\u001b[1m112/112\u001b[0m \u001b[32m━━━━━━━━━━━━━━━━━━━━\u001b[0m\u001b[37m\u001b[0m \u001b[1m19s\u001b[0m 131ms/step - accuracy: 1.0000 - loss: 0.0036 - val_accuracy: 0.9888 - val_loss: 0.0645\n",
            "Epoch 8/20\n",
            "\u001b[1m112/112\u001b[0m \u001b[32m━━━━━━━━━━━━━━━━━━━━\u001b[0m\u001b[37m\u001b[0m \u001b[1m21s\u001b[0m 133ms/step - accuracy: 1.0000 - loss: 0.0021 - val_accuracy: 0.9865 - val_loss: 0.0684\n",
            "Epoch 9/20\n",
            "\u001b[1m112/112\u001b[0m \u001b[32m━━━━━━━━━━━━━━━━━━━━\u001b[0m\u001b[37m\u001b[0m \u001b[1m20s\u001b[0m 133ms/step - accuracy: 1.0000 - loss: 6.5511e-04 - val_accuracy: 0.9888 - val_loss: 0.0724\n",
            "Epoch 10/20\n",
            "\u001b[1m112/112\u001b[0m \u001b[32m━━━━━━━━━━━━━━━━━━━━\u001b[0m\u001b[37m\u001b[0m \u001b[1m16s\u001b[0m 142ms/step - accuracy: 1.0000 - loss: 8.4107e-04 - val_accuracy: 0.9865 - val_loss: 0.0783\n",
            "Epoch 11/20\n",
            "\u001b[1m112/112\u001b[0m \u001b[32m━━━━━━━━━━━━━━━━━━━━\u001b[0m\u001b[37m\u001b[0m \u001b[1m20s\u001b[0m 138ms/step - accuracy: 1.0000 - loss: 7.8860e-04 - val_accuracy: 0.9877 - val_loss: 0.0794\n",
            "Epoch 12/20\n",
            "\u001b[1m112/112\u001b[0m \u001b[32m━━━━━━━━━━━━━━━━━━━━\u001b[0m\u001b[37m\u001b[0m \u001b[1m15s\u001b[0m 132ms/step - accuracy: 1.0000 - loss: 3.1330e-04 - val_accuracy: 0.9877 - val_loss: 0.0820\n",
            "Epoch 13/20\n",
            "\u001b[1m112/112\u001b[0m \u001b[32m━━━━━━━━━━━━━━━━━━━━\u001b[0m\u001b[37m\u001b[0m \u001b[1m16s\u001b[0m 141ms/step - accuracy: 1.0000 - loss: 8.0183e-04 - val_accuracy: 0.9888 - val_loss: 0.0808\n",
            "Epoch 14/20\n",
            "\u001b[1m112/112\u001b[0m \u001b[32m━━━━━━━━━━━━━━━━━━━━\u001b[0m\u001b[37m\u001b[0m \u001b[1m19s\u001b[0m 130ms/step - accuracy: 1.0000 - loss: 2.6681e-04 - val_accuracy: 0.9899 - val_loss: 0.0823\n",
            "Epoch 15/20\n",
            "\u001b[1m112/112\u001b[0m \u001b[32m━━━━━━━━━━━━━━━━━━━━\u001b[0m\u001b[37m\u001b[0m \u001b[1m15s\u001b[0m 131ms/step - accuracy: 1.0000 - loss: 2.0084e-04 - val_accuracy: 0.9899 - val_loss: 0.0836\n",
            "Epoch 16/20\n",
            "\u001b[1m112/112\u001b[0m \u001b[32m━━━━━━━━━━━━━━━━━━━━\u001b[0m\u001b[37m\u001b[0m \u001b[1m20s\u001b[0m 131ms/step - accuracy: 1.0000 - loss: 9.9723e-05 - val_accuracy: 0.9899 - val_loss: 0.0859\n",
            "Epoch 17/20\n",
            "\u001b[1m112/112\u001b[0m \u001b[32m━━━━━━━━━━━━━━━━━━━━\u001b[0m\u001b[37m\u001b[0m \u001b[1m22s\u001b[0m 143ms/step - accuracy: 1.0000 - loss: 1.2161e-04 - val_accuracy: 0.9877 - val_loss: 0.0879\n",
            "Epoch 18/20\n",
            "\u001b[1m112/112\u001b[0m \u001b[32m━━━━━━━━━━━━━━━━━━━━\u001b[0m\u001b[37m\u001b[0m \u001b[1m19s\u001b[0m 132ms/step - accuracy: 1.0000 - loss: 8.6203e-05 - val_accuracy: 0.9888 - val_loss: 0.0907\n",
            "Epoch 19/20\n",
            "\u001b[1m112/112\u001b[0m \u001b[32m━━━━━━━━━━━━━━━━━━━━\u001b[0m\u001b[37m\u001b[0m \u001b[1m21s\u001b[0m 138ms/step - accuracy: 1.0000 - loss: 7.7478e-05 - val_accuracy: 0.9888 - val_loss: 0.0912\n",
            "Epoch 20/20\n",
            "\u001b[1m112/112\u001b[0m \u001b[32m━━━━━━━━━━━━━━━━━━━━\u001b[0m\u001b[37m\u001b[0m \u001b[1m20s\u001b[0m 134ms/step - accuracy: 1.0000 - loss: 6.3752e-05 - val_accuracy: 0.9877 - val_loss: 0.0939\n"
          ]
        }
      ],
      "source": [
        "from tensorflow.keras.models import Sequential\n",
        "from tensorflow.keras.layers import Embedding, LSTM, Dense, Dropout, Bidirectional\n",
        "from tensorflow.keras.callbacks import EarlyStopping\n",
        "from sklearn.utils.class_weight import compute_class_weight\n",
        "\n",
        "# Compute balanced class weights dynamically\n",
        "class_weights = compute_class_weight(class_weight='balanced', classes=np.unique(y_train_seq), y=y_train_seq)\n",
        "\n",
        "class_weight_dict = dict(enumerate(class_weights))\n",
        "\n",
        "# Define improved model\n",
        "model = Sequential()\n",
        "model.add(Embedding(input_dim=vocab_size,\n",
        "                    output_dim=100,\n",
        "                    weights=[embedding_matrix],\n",
        "                    input_length=maxlen,\n",
        "                    trainable=True))\n",
        "model.add(Bidirectional(LSTM(64, return_sequences=False, recurrent_dropout=0.2)))\n",
        "model.add(Dropout(0.5))\n",
        "model.add(Dense(64, activation='relu'))\n",
        "model.add(Dropout(0.3))\n",
        "model.add(Dense(1, activation='sigmoid'))\n",
        "\n",
        "# Compile model\n",
        "model.compile(loss='binary_crossentropy', optimizer='adam', metrics=['accuracy'])\n",
        "\n",
        "# Early stopping\n",
        "early_stop = EarlyStopping(monitor='val_loss', patience=3, restore_best_weights=True)\n",
        "\n",
        "# Train model without early stopping\n",
        "history = model.fit(\n",
        "    X_train_seq, y_train_seq,\n",
        "    epochs=20,\n",
        "    batch_size=32,\n",
        "    validation_split=0.2,\n",
        "    class_weight=class_weight_dict  # still use class weights\n",
        ")"
      ]
    },
    {
      "cell_type": "code",
      "execution_count": null,
      "metadata": {
        "colab": {
          "base_uri": "https://localhost:8080/"
        },
        "id": "2Y5Sjx6ivucz",
        "outputId": "7d70b39b-8d44-45e5-92a0-e787c269c712"
      },
      "outputs": [
        {
          "output_type": "stream",
          "name": "stdout",
          "text": [
            "\u001b[1m35/35\u001b[0m \u001b[32m━━━━━━━━━━━━━━━━━━━━\u001b[0m\u001b[37m\u001b[0m \u001b[1m1s\u001b[0m 41ms/step\n",
            "\n",
            "----- LSTM Model Results -----\n",
            "              precision    recall  f1-score   support\n",
            "\n",
            "           0       0.99      1.00      0.99       966\n",
            "           1       0.97      0.93      0.95       149\n",
            "\n",
            "    accuracy                           0.99      1115\n",
            "   macro avg       0.98      0.96      0.97      1115\n",
            "weighted avg       0.99      0.99      0.99      1115\n",
            "\n",
            "Accuracy: 0.9865470852017937\n"
          ]
        }
      ],
      "source": [
        "# Cell 10: Evaluate LSTM Model\n",
        "from sklearn.metrics import classification_report, accuracy_score\n",
        "\n",
        "# Predict on test data\n",
        "y_pred_seq = model.predict(X_test_seq_final)\n",
        "y_pred_seq = (y_pred_seq > 0.5).astype(int)\n",
        "\n",
        "# Evaluation\n",
        "print(\"\\n----- LSTM Model Results -----\")\n",
        "print(classification_report(y_test_seq_final, y_pred_seq))\n",
        "print(\"Accuracy:\", accuracy_score(y_test_seq_final, y_pred_seq))\n"
      ]
    },
    {
      "cell_type": "code",
      "source": [
        "from sklearn.metrics import accuracy_score, classification_report\n",
        "\n",
        "# --- 1. Training & Validation Accuracy ---\n",
        "train_accuracy = history.history['accuracy'][-1] * 100\n",
        "val_accuracy = history.history['val_accuracy'][-1] * 100\n",
        "\n",
        "print(f\"\\n✅ Final Training Accuracy: {train_accuracy:.2f}%\")\n",
        "print(f\"✅ Final Validation Accuracy: {val_accuracy:.2f}%\")\n",
        "\n",
        "# --- 2. Test Accuracy ---\n",
        "# Predict on test data\n",
        "y_pred_seq = model.predict(X_test_seq_final)\n",
        "y_pred_seq = (y_pred_seq > 0.5).astype(int)\n",
        "\n",
        "test_accuracy = accuracy_score(y_test_seq_final, y_pred_seq) * 100\n",
        "print(f\"\\n✅ Test Accuracy: {test_accuracy:.2f}%\")"
      ],
      "metadata": {
        "colab": {
          "base_uri": "https://localhost:8080/"
        },
        "id": "mjA4MGXwVk6P",
        "outputId": "9092a7a2-204d-421d-82dc-4632efc194b3"
      },
      "execution_count": null,
      "outputs": [
        {
          "output_type": "stream",
          "name": "stdout",
          "text": [
            "\n",
            "✅ Final Training Accuracy: 100.00%\n",
            "✅ Final Validation Accuracy: 98.77%\n",
            "\u001b[1m35/35\u001b[0m \u001b[32m━━━━━━━━━━━━━━━━━━━━\u001b[0m\u001b[37m\u001b[0m \u001b[1m2s\u001b[0m 47ms/step\n",
            "\n",
            "✅ Test Accuracy: 98.65%\n"
          ]
        }
      ]
    },
    {
      "cell_type": "code",
      "execution_count": null,
      "metadata": {
        "colab": {
          "base_uri": "https://localhost:8080/",
          "height": 974
        },
        "id": "bsKY1Bha8U9n",
        "outputId": "35a596bc-ee17-4be7-95d5-2088789f0722"
      },
      "outputs": [
        {
          "output_type": "display_data",
          "data": {
            "text/plain": [
              "<Figure size 600x500 with 2 Axes>"
            ],
            "image/png": "[encoded data removed]"
          },
          "metadata": {}
        },
        {
          "output_type": "stream",
          "name": "stdout",
          "text": [
            "\u001b[1m35/35\u001b[0m \u001b[32m━━━━━━━━━━━━━━━━━━━━\u001b[0m\u001b[37m\u001b[0m \u001b[1m1s\u001b[0m 22ms/step\n"
          ]
        },
        {
          "output_type": "display_data",
          "data": {
            "text/plain": [
              "<Figure size 600x500 with 2 Axes>"
            ],
            "image/png": "[encoded data removed]"
          },
          "metadata": {}
        }
      ],
      "source": [
        "import matplotlib.pyplot as plt\n",
        "import seaborn as sns\n",
        "from sklearn.metrics import confusion_matrix\n",
        "\n",
        "# Classical ML (Random Forest) Predictions\n",
        "y_pred_ml = rf.predict(X_test)  # use X_test, not X_test_tfidf\n",
        "cm_ml = confusion_matrix(y_test, y_pred_ml)\n",
        "\n",
        "plt.figure(figsize=(6, 5))\n",
        "sns.heatmap(cm_ml, annot=True, fmt='d', cmap='Blues', xticklabels=['Ham', 'Spam'], yticklabels=['Ham', 'Spam'])\n",
        "plt.title(\"Confusion Matrix - Random Forest\")\n",
        "plt.xlabel(\"Predicted Label\")\n",
        "plt.ylabel(\"True Label\")\n",
        "plt.show()\n",
        "\n",
        "# LSTM Predictions\n",
        "y_pred_lstm = (model.predict(X_test_seq_final) > 0.5).astype(\"int32\")\n",
        "cm_lstm = confusion_matrix(y_test_seq_final, y_pred_lstm)\n",
        "\n",
        "plt.figure(figsize=(6, 5))\n",
        "sns.heatmap(cm_lstm, annot=True, fmt='d', cmap='Purples', xticklabels=['Ham', 'Spam'], yticklabels=['Ham', 'Spam'])\n",
        "plt.title(\"Confusion Matrix - LSTM\")\n",
        "plt.xlabel(\"Predicted Label\")\n",
        "plt.ylabel(\"True Label\")\n",
        "plt.show()\n",
        "\n"
      ]
    }
  ],
  "metadata": {
    "colab": {
      "provenance": []
    },
    "kernelspec": {
      "display_name": "Python 3",
      "name": "python3"
    },
    "language_info": {
      "name": "python"
    }
  },
  "nbformat": 4,
  "nbformat_minor": 0
}